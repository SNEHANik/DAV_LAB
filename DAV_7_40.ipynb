{
  "cells": [
    {
      "cell_type": "markdown",
      "metadata": {
        "id": "view-in-github",
        "colab_type": "text"
      },
      "source": [
        "<a href=\"https://colab.research.google.com/github/SNEHANik/DAV_LAB/blob/main/DAV_7_40.ipynb\" target=\"_parent\"><img src=\"https://colab.research.google.com/assets/colab-badge.svg\" alt=\"Open In Colab\"/></a>"
      ]
    },
    {
      "cell_type": "code",
      "execution_count": 1,
      "metadata": {
        "id": "uc9bYOuwl8Xo"
      },
      "outputs": [],
      "source": [
        "# aim:Perform the steps involved in Text Analytics in Python & R"
      ]
    },
    {
      "cell_type": "code",
      "execution_count": 2,
      "metadata": {
        "colab": {
          "base_uri": "https://localhost:8080/"
        },
        "id": "PgrCx7hfl01H",
        "outputId": "34ba4824-ad98-409a-a742-0e98beef1a6f"
      },
      "outputs": [
        {
          "output_type": "stream",
          "name": "stdout",
          "text": [
            "Requirement already satisfied: nltk in /usr/local/lib/python3.10/dist-packages (3.8.1)\n",
            "Requirement already satisfied: click in /usr/local/lib/python3.10/dist-packages (from nltk) (8.1.7)\n",
            "Requirement already satisfied: joblib in /usr/local/lib/python3.10/dist-packages (from nltk) (1.3.2)\n",
            "Requirement already satisfied: regex>=2021.8.3 in /usr/local/lib/python3.10/dist-packages (from nltk) (2023.12.25)\n",
            "Requirement already satisfied: tqdm in /usr/local/lib/python3.10/dist-packages (from nltk) (4.66.2)\n"
          ]
        }
      ],
      "source": [
        "!pip install nltk"
      ]
    },
    {
      "cell_type": "code",
      "source": [
        "import nltk"
      ],
      "metadata": {
        "id": "V2NIImsqJj-b"
      },
      "execution_count": 9,
      "outputs": []
    },
    {
      "cell_type": "code",
      "execution_count": 10,
      "metadata": {
        "colab": {
          "base_uri": "https://localhost:8080/"
        },
        "id": "liG2nlEBnuEX",
        "outputId": "fa153186-0d7a-45f2-a5ce-46cf2725f409"
      },
      "outputs": [
        {
          "output_type": "stream",
          "name": "stderr",
          "text": [
            "[nltk_data] Downloading package punkt to /root/nltk_data...\n",
            "[nltk_data]   Unzipping tokenizers/punkt.zip.\n"
          ]
        },
        {
          "output_type": "execute_result",
          "data": {
            "text/plain": [
              "True"
            ]
          },
          "metadata": {},
          "execution_count": 10
        }
      ],
      "source": [
        "nltk.download('punkt')"
      ]
    },
    {
      "cell_type": "code",
      "execution_count": 11,
      "metadata": {
        "id": "Y1N03H8LmL1s"
      },
      "outputs": [],
      "source": [
        "# Tokenization (Sentence & Word)"
      ]
    },
    {
      "cell_type": "code",
      "execution_count": 12,
      "metadata": {
        "colab": {
          "base_uri": "https://localhost:8080/"
        },
        "id": "-wdwPS9MmVJc",
        "outputId": "6ef05b07-5ca7-4430-dd45-90f367d4a643"
      },
      "outputs": [
        {
          "output_type": "stream",
          "name": "stdout",
          "text": [
            "['I want to drive away with you,\\nI want your complications too,\\nI want your dreary Mondays']\n"
          ]
        }
      ],
      "source": [
        "\n",
        "from nltk.tokenize import sent_tokenize\n",
        "text=\"\"\"I want to drive away with you,\n",
        "I want your complications too,\n",
        "I want your dreary Mondays\"\"\"\n",
        "\n",
        "tokenized_text=sent_tokenize(text)\n",
        "print(tokenized_text)"
      ]
    },
    {
      "cell_type": "code",
      "execution_count": 13,
      "metadata": {
        "colab": {
          "base_uri": "https://localhost:8080/"
        },
        "id": "3xYxtNSanFYm",
        "outputId": "adbea589-612d-45e2-8734-575ba64ef20c"
      },
      "outputs": [
        {
          "output_type": "stream",
          "name": "stdout",
          "text": [
            "['I', 'want', 'to', 'drive', 'away', 'with', 'you', ',', 'I', 'want', 'your', 'complications', 'too', ',', 'I', 'want', 'your', 'dreary', 'Mondays']\n"
          ]
        }
      ],
      "source": [
        "from nltk.tokenize import word_tokenize\n",
        "\n",
        "tokenized_word=word_tokenize(text)\n",
        "\n",
        "print(tokenized_word)"
      ]
    },
    {
      "cell_type": "markdown",
      "metadata": {
        "id": "XX06j-z0owXm"
      },
      "source": [
        "Frequency Distribution"
      ]
    },
    {
      "cell_type": "code",
      "execution_count": 14,
      "metadata": {
        "colab": {
          "base_uri": "https://localhost:8080/"
        },
        "id": "Pr5F53XroMBH",
        "outputId": "3e3fec91-e2aa-4b59-e599-ba2c0e72bc20"
      },
      "outputs": [
        {
          "output_type": "stream",
          "name": "stdout",
          "text": [
            "[('I', 3), ('want', 3)]\n"
          ]
        }
      ],
      "source": [
        "from nltk.probability import FreqDist\n",
        "\n",
        "fdist = FreqDist(tokenized_word)\n",
        "print(fdist.most_common(2))"
      ]
    },
    {
      "cell_type": "code",
      "execution_count": 15,
      "metadata": {
        "colab": {
          "base_uri": "https://localhost:8080/"
        },
        "id": "sapwZUN0p3Ne",
        "outputId": "ad658494-5bd5-49bf-e45e-1c6926f936ec"
      },
      "outputs": [
        {
          "output_type": "stream",
          "name": "stdout",
          "text": [
            "<FreqDist with 13 samples and 19 outcomes>\n"
          ]
        }
      ],
      "source": [
        "print(fdist)"
      ]
    },
    {
      "cell_type": "code",
      "execution_count": 16,
      "metadata": {
        "colab": {
          "base_uri": "https://localhost:8080/",
          "height": 532
        },
        "id": "wcjTcitBpuE3",
        "outputId": "c18b6985-b617-4f6d-9339-b22b3455dc8d"
      },
      "outputs": [
        {
          "output_type": "display_data",
          "data": {
            "text/plain": [
              "<Figure size 640x480 with 1 Axes>"
            ],
            "image/png": "[encoded data removed]"
          },
          "metadata": {}
        }
      ],
      "source": [
        "import matplotlib.pyplot as plt\n",
        "\n",
        "fdist.plot(17,cumulative=False)\n",
        "plt.show()"
      ]
    },
    {
      "cell_type": "markdown",
      "metadata": {
        "id": "mX6cGdjorNcG"
      },
      "source": [
        "Remove stopwords & punctuations"
      ]
    },
    {
      "cell_type": "code",
      "execution_count": 18,
      "metadata": {
        "colab": {
          "base_uri": "https://localhost:8080/"
        },
        "id": "jPPuTsKkqqxT",
        "outputId": "37a9eb62-6d1e-4875-bc14-ad1e3380d9d9"
      },
      "outputs": [
        {
          "output_type": "stream",
          "name": "stderr",
          "text": [
            "[nltk_data] Downloading package stopwords to /root/nltk_data...\n",
            "[nltk_data]   Package stopwords is already up-to-date!\n"
          ]
        },
        {
          "output_type": "execute_result",
          "data": {
            "text/plain": [
              "True"
            ]
          },
          "metadata": {},
          "execution_count": 18
        }
      ],
      "source": [
        "nltk.download('stopwords')"
      ]
    },
    {
      "cell_type": "code",
      "execution_count": 19,
      "metadata": {
        "colab": {
          "base_uri": "https://localhost:8080/"
        },
        "id": "5MGXvNyqp0QW",
        "outputId": "feeea086-3ce2-466e-f20d-d6da64679677"
      },
      "outputs": [
        {
          "output_type": "stream",
          "name": "stdout",
          "text": [
            "{\"doesn't\", 'the', 'ours', \"you're\", 'doing', 'very', 't', 'needn', 'some', 'was', \"shouldn't\", 'what', 'wasn', 'itself', 'more', 'are', 'own', 'her', 'weren', 'for', 'over', 'down', 'most', 'has', 'if', 'don', 'of', 'few', 'not', \"wasn't\", 'theirs', 'have', 'your', 'and', 'doesn', \"it's\", 'herself', 'now', 'hadn', 'too', 'ma', 'hers', \"aren't\", 'in', 'himself', 'its', 'being', 'here', 'it', 'during', 'whom', \"wouldn't\", 'our', 'mustn', \"couldn't\", 'a', 'didn', 'into', 'they', 'yourselves', 'did', 'with', \"needn't\", 'by', 'again', 'yours', 'off', 'any', 'until', \"haven't\", 'him', 'that', 'an', 'while', 'mightn', 'shouldn', 'them', 'just', 'am', 'm', 'than', 'me', \"should've\", 'hasn', \"mightn't\", 'as', 'haven', 'each', 'won', 'll', 'i', 'will', 'under', 'once', 'no', 'be', 'should', 'he', 'themselves', 'further', 'out', 'been', \"you've\", 'nor', 'does', \"don't\", 'such', \"didn't\", \"hasn't\", 've', 'which', 'you', 'myself', \"you'd\", 'were', 'above', 'why', \"won't\", 'd', \"hadn't\", 'below', \"that'll\", 'from', 's', 'my', 'o', 'because', 'couldn', \"weren't\", 'his', 'ourselves', 'at', 'about', 'do', 'this', 'these', 'through', 'or', 'had', 'she', 'there', 'where', \"mustn't\", 'aren', 'up', 'isn', 'to', 'then', 'how', 'other', 'but', 're', 'wouldn', 'between', 'so', 'yourself', 'both', 'after', 'same', \"shan't\", 'those', 'only', 'who', 'all', 'when', \"you'll\", \"she's\", 'against', 'we', 'their', 'can', 'y', 'on', \"isn't\", 'before', 'ain', 'shan', 'is', 'having'}\n"
          ]
        }
      ],
      "source": [
        "from nltk.corpus import stopwords\n",
        "\n",
        "stop_words=set(stopwords.words(\"english\"))\n",
        "\n",
        "print(stop_words)"
      ]
    },
    {
      "cell_type": "code",
      "execution_count": 20,
      "metadata": {
        "colab": {
          "base_uri": "https://localhost:8080/"
        },
        "id": "nlr1RDv-qwii",
        "outputId": "6d12093c-84a5-4444-c75f-98f0c109c7fd"
      },
      "outputs": [
        {
          "output_type": "stream",
          "name": "stdout",
          "text": [
            "Tokenized Words: ['I', 'want', 'to', 'drive', 'away', 'with', 'you', ',', 'I', 'want', 'your', 'complications', 'too', ',', 'I', 'want', 'your', 'dreary', 'Mondays']\n",
            "Filterd Tokens: ['I', 'want', 'drive', 'away', ',', 'I', 'want', 'complications', ',', 'I', 'want', 'dreary', 'Mondays']\n"
          ]
        }
      ],
      "source": [
        "filtered_tokens=[]\n",
        "for w in tokenized_word:\n",
        "    if w not in stop_words:\n",
        "         filtered_tokens.append(w)\n",
        "\n",
        "print(\"Tokenized Words:\",tokenized_word)\n",
        "print(\"Filterd Tokens:\",filtered_tokens)"
      ]
    },
    {
      "cell_type": "code",
      "execution_count": 21,
      "metadata": {
        "colab": {
          "base_uri": "https://localhost:8080/"
        },
        "id": "bZS8drw1rUmw",
        "outputId": "f3875a8b-d8c1-4019-9b4a-1486ac30e835"
      },
      "outputs": [
        {
          "output_type": "execute_result",
          "data": {
            "text/plain": [
              "['!',\n",
              " '\"',\n",
              " '#',\n",
              " '$',\n",
              " '%',\n",
              " '&',\n",
              " \"'\",\n",
              " '(',\n",
              " ')',\n",
              " '*',\n",
              " '+',\n",
              " ',',\n",
              " '-',\n",
              " '.',\n",
              " '/',\n",
              " ':',\n",
              " ';',\n",
              " '<',\n",
              " '=',\n",
              " '>',\n",
              " '?',\n",
              " '@',\n",
              " '[',\n",
              " '\\\\',\n",
              " ']',\n",
              " '^',\n",
              " '_',\n",
              " '`',\n",
              " '{',\n",
              " '|',\n",
              " '}',\n",
              " '~']"
            ]
          },
          "metadata": {},
          "execution_count": 21
        }
      ],
      "source": [
        "import string\n",
        "\n",
        "# punctuations\n",
        "punctuations=list(string.punctuation)\n",
        "punctuations"
      ]
    },
    {
      "cell_type": "code",
      "execution_count": 22,
      "metadata": {
        "colab": {
          "base_uri": "https://localhost:8080/"
        },
        "id": "9i9_wP3KrbMv",
        "outputId": "7c89cb0c-9139-4c6e-b257-b789161d19ae"
      },
      "outputs": [
        {
          "output_type": "stream",
          "name": "stdout",
          "text": [
            "Filterd Tokens After Removing Punctuations: ['I', 'want', 'drive', 'away', 'I', 'want', 'complications', 'I', 'want', 'dreary', 'Mondays']\n"
          ]
        }
      ],
      "source": [
        "filtered_tokens2=[]\n",
        "\n",
        "for i in filtered_tokens:\n",
        "    if i not in punctuations:\n",
        "        filtered_tokens2.append(i)\n",
        "\n",
        "print(\"Filterd Tokens After Removing Punctuations:\",filtered_tokens2)"
      ]
    },
    {
      "cell_type": "markdown",
      "metadata": {
        "id": "XU1KfDYjsUDP"
      },
      "source": [
        "Lexicon Normalization"
      ]
    },
    {
      "cell_type": "code",
      "execution_count": 23,
      "metadata": {
        "colab": {
          "base_uri": "https://localhost:8080/"
        },
        "id": "QJqXkLmfr8nA",
        "outputId": "2c1d879f-7b18-4dae-a568-82a4ae1600d6"
      },
      "outputs": [
        {
          "output_type": "stream",
          "name": "stdout",
          "text": [
            "Filtered Tokens After Removing Punctuations: ['I', 'want', 'drive', 'away', 'I', 'want', 'complications', 'I', 'want', 'dreary', 'Mondays']\n",
            "Stemmed Tokens: ['i', 'want', 'drive', 'away', 'i', 'want', 'complic', 'i', 'want', 'dreari', 'monday']\n"
          ]
        }
      ],
      "source": [
        "# Stemming\n",
        "from nltk.stem import PorterStemmer\n",
        "from nltk.tokenize import sent_tokenize, word_tokenize\n",
        "ps = PorterStemmer()\n",
        "\n",
        "stemmed_words=[]\n",
        "\n",
        "for w in filtered_tokens2:\n",
        "     stemmed_words.append(ps.stem(w))\n",
        "\n",
        "print(\"Filtered Tokens After Removing Punctuations:\",filtered_tokens2)\n",
        "print(\"Stemmed Tokens:\",stemmed_words)"
      ]
    },
    {
      "cell_type": "code",
      "execution_count": 24,
      "metadata": {
        "colab": {
          "base_uri": "https://localhost:8080/"
        },
        "id": "8M2BMQ24sz9O",
        "outputId": "59b2a656-9042-4191-de49-e87056388f8c"
      },
      "outputs": [
        {
          "output_type": "stream",
          "name": "stderr",
          "text": [
            "[nltk_data] Downloading package wordnet to /root/nltk_data...\n"
          ]
        },
        {
          "output_type": "execute_result",
          "data": {
            "text/plain": [
              "True"
            ]
          },
          "metadata": {},
          "execution_count": 24
        }
      ],
      "source": [
        "nltk.download('wordnet')"
      ]
    },
    {
      "cell_type": "code",
      "execution_count": 25,
      "metadata": {
        "colab": {
          "base_uri": "https://localhost:8080/"
        },
        "id": "ADvBxYU5r9X2",
        "outputId": "68e47e63-9c0b-4466-9ff3-f356b5ca028e"
      },
      "outputs": [
        {
          "output_type": "stream",
          "name": "stdout",
          "text": [
            "Lemmatized Word: carry\n",
            "Stemmed Word: carri\n"
          ]
        }
      ],
      "source": [
        "#Lexicon Normalization#performing stemming and Lemmatization\n",
        "from nltk.stem.wordnet import WordNetLemmatizer\n",
        "from nltk.stem.porter import PorterStemmer\n",
        "\n",
        "lem = WordNetLemmatizer()\n",
        "stem = PorterStemmer()\n",
        "word = \"carrying\"\n",
        "\n",
        "print(\"Lemmatized Word:\",lem.lemmatize(word,\"v\"))\n",
        "\n",
        "print(\"Stemmed Word:\",stem.stem(word))"
      ]
    },
    {
      "cell_type": "code",
      "execution_count": 26,
      "metadata": {
        "colab": {
          "base_uri": "https://localhost:8080/"
        },
        "id": "tbHNt7FytA-4",
        "outputId": "553c3664-5d7a-4487-ee7d-44d0d69d46fb"
      },
      "outputs": [
        {
          "output_type": "stream",
          "name": "stdout",
          "text": [
            "lem Tokens: ['i', 'want', 'drive', 'away', 'i', 'want', 'complic', 'i', 'want', 'dreari', 'monday']\n"
          ]
        }
      ],
      "source": [
        "lem_words=[]\n",
        "lem = WordNetLemmatizer()\n",
        "\n",
        "for w in filtered_tokens2:\n",
        "     lem_words.append(ps.stem(w))\n",
        "\n",
        "print(\"lem Tokens:\",lem_words)"
      ]
    },
    {
      "cell_type": "markdown",
      "metadata": {
        "id": "r-yXSzK1ufeA"
      },
      "source": [
        "Part of Speech tagging"
      ]
    },
    {
      "cell_type": "code",
      "execution_count": 27,
      "metadata": {
        "colab": {
          "base_uri": "https://localhost:8080/"
        },
        "id": "LXXRBHuvu2Ae",
        "outputId": "302d9acf-c89d-4ab5-858e-7e5f0137b134"
      },
      "outputs": [
        {
          "output_type": "stream",
          "name": "stderr",
          "text": [
            "[nltk_data] Downloading package averaged_perceptron_tagger to\n",
            "[nltk_data]     /root/nltk_data...\n",
            "[nltk_data]   Unzipping taggers/averaged_perceptron_tagger.zip.\n"
          ]
        },
        {
          "output_type": "execute_result",
          "data": {
            "text/plain": [
              "True"
            ]
          },
          "metadata": {},
          "execution_count": 27
        }
      ],
      "source": [
        " nltk.download('averaged_perceptron_tagger')"
      ]
    },
    {
      "cell_type": "code",
      "execution_count": 28,
      "metadata": {
        "colab": {
          "base_uri": "https://localhost:8080/"
        },
        "id": "LndFa1YitfLZ",
        "outputId": "c51efb6b-10d2-4ddc-bbd1-caa2f62d1f58"
      },
      "outputs": [
        {
          "output_type": "stream",
          "name": "stdout",
          "text": [
            "Tokens: ['I', 'want', 'to', 'drive', 'away', 'with', 'you', ',', 'I', 'want', 'your', 'complications', 'too', ',', 'I', 'want', 'your', 'dreary', 'Mondays']\n",
            "PoS tags: [('I', 'PRP'), ('want', 'VBP'), ('to', 'TO'), ('drive', 'VB'), ('away', 'RP'), ('with', 'IN'), ('you', 'PRP'), (',', ','), ('I', 'PRP'), ('want', 'VBP'), ('your', 'PRP$'), ('complications', 'NNS'), ('too', 'RB'), (',', ','), ('I', 'PRP'), ('want', 'VBP'), ('your', 'PRP$'), ('dreary', 'JJ'), ('Mondays', 'NNS')]\n"
          ]
        }
      ],
      "source": [
        "from nltk.tokenize import word_tokenize\n",
        "from nltk import pos_tag\n",
        "\n",
        "sent = \"Albert Einstein was born in Ulm, Germany in 1879.\"\n",
        "\n",
        "tokens=word_tokenize(text)\n",
        "pos_=pos_tag(tokens)\n",
        "\n",
        "\n",
        "print(\"Tokens:\",tokens)\n",
        "print(\"PoS tags:\",pos_)"
      ]
    },
    {
      "cell_type": "markdown",
      "metadata": {
        "id": "90xW7B-UvLTA"
      },
      "source": [
        "Named Entity Recognization"
      ]
    },
    {
      "cell_type": "code",
      "execution_count": 29,
      "metadata": {
        "colab": {
          "base_uri": "https://localhost:8080/"
        },
        "id": "ko-E6rSBvpXg",
        "outputId": "f940c65a-c092-4300-e0ee-acd592870bb2"
      },
      "outputs": [
        {
          "output_type": "stream",
          "name": "stderr",
          "text": [
            "[nltk_data] Downloading package maxent_ne_chunker to\n",
            "[nltk_data]     /root/nltk_data...\n",
            "[nltk_data]   Unzipping chunkers/maxent_ne_chunker.zip.\n"
          ]
        },
        {
          "output_type": "execute_result",
          "data": {
            "text/plain": [
              "True"
            ]
          },
          "metadata": {},
          "execution_count": 29
        }
      ],
      "source": [
        "nltk.download('maxent_ne_chunker')\n"
      ]
    },
    {
      "cell_type": "code",
      "execution_count": 30,
      "metadata": {
        "colab": {
          "base_uri": "https://localhost:8080/"
        },
        "id": "OV4V4GRKv_in",
        "outputId": "6e67d8a4-cc48-4502-ef50-ce9137133aca"
      },
      "outputs": [
        {
          "output_type": "stream",
          "name": "stderr",
          "text": [
            "[nltk_data] Downloading package words to /root/nltk_data...\n",
            "[nltk_data]   Unzipping corpora/words.zip.\n"
          ]
        },
        {
          "output_type": "execute_result",
          "data": {
            "text/plain": [
              "True"
            ]
          },
          "metadata": {},
          "execution_count": 30
        }
      ],
      "source": [
        "nltk.download('words')"
      ]
    },
    {
      "cell_type": "code",
      "execution_count": 31,
      "metadata": {
        "colab": {
          "base_uri": "https://localhost:8080/"
        },
        "id": "yq_CarWrvJMX",
        "outputId": "48c90675-25e4-43f4-aa6a-7bd2a663bfc6"
      },
      "outputs": [
        {
          "output_type": "stream",
          "name": "stdout",
          "text": [
            "GPE Mumbai\n"
          ]
        }
      ],
      "source": [
        "from nltk import ne_chunk\n",
        "\n",
        "\n",
        "sent=\"Mumbai is small place with hbig dream\"\n",
        "\n",
        "for chunk in ne_chunk(nltk.pos_tag(word_tokenize(sent))):\n",
        "        if hasattr(chunk, 'label'):\n",
        "            print(chunk.label(), ' '.join(c[0] for c in chunk))"
      ]
    },
    {
      "cell_type": "markdown",
      "metadata": {
        "id": "dshz-SPEwptQ"
      },
      "source": [
        "Scrape data from a website"
      ]
    },
    {
      "cell_type": "code",
      "execution_count": 32,
      "metadata": {
        "id": "k8KEOcW-whjw",
        "colab": {
          "base_uri": "https://localhost:8080/"
        },
        "outputId": "26ea4255-0a62-4df0-e312-dbcde0b12c18"
      },
      "outputs": [
        {
          "output_type": "stream",
          "name": "stdout",
          "text": [
            "Requirement already satisfied: requests in /usr/local/lib/python3.10/dist-packages (2.31.0)\n",
            "Requirement already satisfied: beautifulsoup4 in /usr/local/lib/python3.10/dist-packages (4.12.3)\n",
            "Requirement already satisfied: pandas in /usr/local/lib/python3.10/dist-packages (1.5.3)\n",
            "\u001b[31mERROR: Could not find a version that satisfies the requirement time (from versions: none)\u001b[0m\u001b[31m\n",
            "\u001b[0m\u001b[31mERROR: No matching distribution found for time\u001b[0m\u001b[31m\n",
            "\u001b[0m"
          ]
        }
      ],
      "source": [
        "pip install requests beautifulsoup4 pandas time"
      ]
    },
    {
      "cell_type": "code",
      "source": [
        "import requests\n",
        "\n",
        "from bs4 import BeautifulSoup\n",
        "import pandas as pd\n",
        "import time\n",
        "\n",
        "# URL of the website to scrape\n",
        "url = \"https://www.imdb.com/chart/top\"\n",
        "\n",
        "# Send an HTTP GET request to the website\n",
        "response = requests.get(url)\n",
        "\n",
        "# Parse the HTML code using BeautifulSoup\n",
        "soup = BeautifulSoup(response.content, 'html.parser')\n",
        "\n",
        "# Extract the relevant information from the HTML code\n",
        "movies = []\n",
        "for row in soup.select('tbody.lister-list tr'):\n",
        "  title = row.find('td', class_='titleColumn').find('a').get_text()\n",
        "  year = row.find('td', class_='titleColumn').find('span', class_='secondaryInfo').get_text()[1:-1]\n",
        "  rating = row.find('td', class_='ratingColumn imdbRating').find('strong').get_text()\n",
        "  movies.append([title, year, rating])\n",
        "\n",
        "# Store the information in a pandas dataframe\n",
        "df = pd.DataFrame(movies, columns=['Title', 'Year', 'Rating'])\n",
        "\n",
        "# Add a delay between requests to avoid overwhelming the website with requests\n",
        "time.sleep(1)"
      ],
      "metadata": {
        "id": "XOpIftIEJ6c0"
      },
      "execution_count": 34,
      "outputs": []
    },
    {
      "cell_type": "code",
      "source": [
        "# Export the data to a CSV file\n",
        "df.to_csv('top-movies.csv', index=False)"
      ],
      "metadata": {
        "id": "XZxHtnWgKHW9"
      },
      "execution_count": 35,
      "outputs": []
    },
    {
      "cell_type": "code",
      "source": [
        "##Tokenization (Sentence & Word)"
      ],
      "metadata": {
        "id": "IARkzwdSzVeh"
      },
      "execution_count": 37,
      "outputs": []
    },
    {
      "cell_type": "code",
      "source": [
        "# Install and load the 'tokenizers' package\n",
        "install.packages(\"tokenizers\")\n",
        "library(tokenizers)\n",
        "\n",
        "# Sample text\n",
        "text <- \"good morning \"\n",
        "\n",
        "# Tokenize the text into words\n",
        "word_tokens <- unlist(tokenize_words(text))\n",
        "\n",
        "# Print the result\n",
        "print(word_tokens)\n"
      ],
      "metadata": {
        "id": "3xCw_QO2zX3a",
        "colab": {
          "base_uri": "https://localhost:8080/"
        },
        "outputId": "3019e686-3b03-4d42-e4c0-d6187d496c0a"
      },
      "execution_count": 1,
      "outputs": [
        {
          "output_type": "stream",
          "name": "stderr",
          "text": [
            "Installing package into ‘/usr/local/lib/R/site-library’\n",
            "(as ‘lib’ is unspecified)\n",
            "\n",
            "also installing the dependencies ‘Rcpp’, ‘SnowballC’\n",
            "\n",
            "\n"
          ]
        },
        {
          "output_type": "stream",
          "name": "stdout",
          "text": [
            "[1] \"good\"    \"morning\"\n"
          ]
        }
      ]
    },
    {
      "cell_type": "code",
      "source": [
        "# Remove stopwords & punctuations in R"
      ],
      "metadata": {
        "id": "ZGEIiPANK7L5"
      },
      "execution_count": 4,
      "outputs": []
    },
    {
      "cell_type": "code",
      "source": [
        "install.packages(\"tm\")\n"
      ],
      "metadata": {
        "colab": {
          "base_uri": "https://localhost:8080/"
        },
        "id": "wCNnINAzKOWj",
        "outputId": "c172b56a-4320-47ee-d7be-d5ef6c15dd6c"
      },
      "execution_count": 2,
      "outputs": [
        {
          "output_type": "stream",
          "name": "stderr",
          "text": [
            "Installing package into ‘/usr/local/lib/R/site-library’\n",
            "(as ‘lib’ is unspecified)\n",
            "\n",
            "also installing the dependencies ‘NLP’, ‘slam’, ‘BH’\n",
            "\n",
            "\n"
          ]
        }
      ]
    },
    {
      "cell_type": "markdown",
      "source": [
        "Remove stopwords & punctuations"
      ],
      "metadata": {
        "id": "IzX8st5vNtpn"
      }
    },
    {
      "cell_type": "code",
      "source": [
        "library(tm)\n",
        "\n",
        "# Sample text\n",
        "text <- \"This is a sample sentence, demonstrating the removal of stopwords and punctuations.\"\n",
        "\n",
        "# Create a Corpus\n",
        "corpus <- Corpus(VectorSource(text))\n",
        "\n",
        "# Convert to lowercase\n",
        "corpus <- tm_map(corpus, content_transformer(tolower))\n",
        "\n",
        "# Remove punctuation\n",
        "corpus <- tm_map(corpus, removePunctuation)\n",
        "\n",
        "# Remove stopwords\n",
        "corpus <- tm_map(corpus, removeWords, stopwords(\"english\"))\n",
        "\n",
        "# Convert back to text\n",
        "clean_text <- sapply(corpus, as.character)\n",
        "\n",
        "clean_text\n"
      ],
      "metadata": {
        "colab": {
          "base_uri": "https://localhost:8080/",
          "height": 173
        },
        "id": "N4eraH90K53o",
        "outputId": "671a5f61-6cd6-42ee-87b8-c5dda0b584a9"
      },
      "execution_count": 3,
      "outputs": [
        {
          "output_type": "stream",
          "name": "stderr",
          "text": [
            "Loading required package: NLP\n",
            "\n",
            "Warning message in tm_map.SimpleCorpus(corpus, content_transformer(tolower)):\n",
            "“transformation drops documents”\n",
            "Warning message in tm_map.SimpleCorpus(corpus, removePunctuation):\n",
            "“transformation drops documents”\n",
            "Warning message in tm_map.SimpleCorpus(corpus, removeWords, stopwords(\"english\")):\n",
            "“transformation drops documents”\n"
          ]
        },
        {
          "output_type": "display_data",
          "data": {
            "text/html": [
              "<span style=white-space:pre-wrap>'   sample sentence demonstrating  removal  stopwords  punctuations'</span>"
            ],
            "text/markdown": "<span style=white-space:pre-wrap>'   sample sentence demonstrating  removal  stopwords  punctuations'</span>",
            "text/latex": "'   sample sentence demonstrating  removal  stopwords  punctuations'",
            "text/plain": [
              "[1] \"   sample sentence demonstrating  removal  stopwords  punctuations\""
            ]
          },
          "metadata": {}
        }
      ]
    },
    {
      "cell_type": "code",
      "source": [
        "install.packages(\"textstem\")"
      ],
      "metadata": {
        "colab": {
          "base_uri": "https://localhost:8080/"
        },
        "id": "d-tCRObxK8EP",
        "outputId": "787a40a6-0be8-4327-fddb-e4017b80d262"
      },
      "execution_count": 5,
      "outputs": [
        {
          "output_type": "stream",
          "name": "stderr",
          "text": [
            "Installing package into ‘/usr/local/lib/R/site-library’\n",
            "(as ‘lib’ is unspecified)\n",
            "\n",
            "also installing the dependencies ‘zoo’, ‘dtt’, ‘ISOcodes’, ‘sylly.en’, ‘sylly’, ‘syuzhet’, ‘fastmatch’, ‘RcppParallel’, ‘stopwords’, ‘RcppArmadillo’, ‘english’, ‘mgsub’, ‘qdapRegex’, ‘koRpus.lang.en’, ‘hunspell’, ‘koRpus’, ‘lexicon’, ‘quanteda’, ‘textclean’, ‘textshape’\n",
            "\n",
            "\n"
          ]
        }
      ]
    },
    {
      "cell_type": "markdown",
      "source": [
        "Lexicon Normalization (Stemming, Lemmatization)"
      ],
      "metadata": {
        "id": "7G9F_eCzNeZJ"
      }
    },
    {
      "cell_type": "code",
      "source": [
        "library(tm)\n",
        "library(textstem)\n",
        "\n",
        "# Sample text\n",
        "text <- \"The cats are chasing mice and playing with them joyfully.\"\n",
        "\n",
        "# Create a Corpus\n",
        "corpus <- Corpus(VectorSource(text))\n",
        "\n",
        "# Convert to lowercase\n",
        "corpus <- tm_map(corpus, content_transformer(tolower))\n",
        "\n",
        "# Stemming\n",
        "corpus_stemmed <- tm_map(corpus, stemDocument)\n",
        "\n",
        "# Lemmatization\n",
        "corpus_lemmatized <- tm_map(corpus, lemmatize_strings)\n",
        "\n",
        "# Convert back to text\n",
        "stemmed_text <- sapply(corpus_stemmed, as.character)\n",
        "lemmatized_text <- sapply(corpus_lemmatized, as.character)\n",
        "\n",
        "stemmed_text\n",
        "lemmatized_text\n"
      ],
      "metadata": {
        "colab": {
          "base_uri": "https://localhost:8080/",
          "height": 538
        },
        "id": "VnBNxr0GLRh-",
        "outputId": "f5f4644c-4c7b-42cb-8f4d-b9bc832c5330"
      },
      "execution_count": 6,
      "outputs": [
        {
          "output_type": "stream",
          "name": "stderr",
          "text": [
            "Loading required package: koRpus.lang.en\n",
            "\n",
            "Loading required package: koRpus\n",
            "\n",
            "Loading required package: sylly\n",
            "\n",
            "For information on available language packages for 'koRpus', run\n",
            "\n",
            "  available.koRpus.lang()\n",
            "\n",
            "and see ?install.koRpus.lang()\n",
            "\n",
            "\n",
            "\n",
            "Attaching package: ‘koRpus’\n",
            "\n",
            "\n",
            "The following object is masked from ‘package:tm’:\n",
            "\n",
            "    readTagged\n",
            "\n",
            "\n",
            "Warning message in tm_map.SimpleCorpus(corpus, content_transformer(tolower)):\n",
            "“transformation drops documents”\n",
            "Warning message in tm_map.SimpleCorpus(corpus, stemDocument):\n",
            "“transformation drops documents”\n",
            "Warning message in tm_map.SimpleCorpus(corpus, lemmatize_strings):\n",
            "“transformation drops documents”\n"
          ]
        },
        {
          "output_type": "display_data",
          "data": {
            "text/html": [
              "'the cat are chase mice and play with them joyfully.'"
            ],
            "text/markdown": "'the cat are chase mice and play with them joyfully.'",
            "text/latex": "'the cat are chase mice and play with them joyfully.'",
            "text/plain": [
              "[1] \"the cat are chase mice and play with them joyfully.\""
            ]
          },
          "metadata": {}
        },
        {
          "output_type": "display_data",
          "data": {
            "text/html": [
              "'the cat be chase mouse and play with them joyfully.'"
            ],
            "text/markdown": "'the cat be chase mouse and play with them joyfully.'",
            "text/latex": "'the cat be chase mouse and play with them joyfully.'",
            "text/plain": [
              "[1] \"the cat be chase mouse and play with them joyfully.\""
            ]
          },
          "metadata": {}
        }
      ]
    },
    {
      "cell_type": "code",
      "source": [
        "install.packages(\"openNLP\")\n"
      ],
      "metadata": {
        "colab": {
          "base_uri": "https://localhost:8080/"
        },
        "id": "xhLvA6jLLgxD",
        "outputId": "9694acb2-c3af-48ba-dab8-e0619d2d68d2"
      },
      "execution_count": 15,
      "outputs": [
        {
          "output_type": "stream",
          "name": "stderr",
          "text": [
            "Installing package into ‘/usr/local/lib/R/site-library’\n",
            "(as ‘lib’ is unspecified)\n",
            "\n",
            "also installing the dependencies ‘openNLPdata’, ‘rJava’\n",
            "\n",
            "\n",
            "Warning message in install.packages(\"openNLP\"):\n",
            "“installation of package ‘rJava’ had non-zero exit status”\n",
            "Warning message in install.packages(\"openNLP\"):\n",
            "“installation of package ‘openNLPdata’ had non-zero exit status”\n",
            "Warning message in install.packages(\"openNLP\"):\n",
            "“installation of package ‘openNLP’ had non-zero exit status”\n"
          ]
        }
      ]
    },
    {
      "cell_type": "code",
      "source": [
        "install.packages(\"NLP\")"
      ],
      "metadata": {
        "colab": {
          "base_uri": "https://localhost:8080/"
        },
        "id": "BNi4l3nHM_-6",
        "outputId": "b2499c63-89c5-45eb-acc3-25dcd366b28b"
      },
      "execution_count": 16,
      "outputs": [
        {
          "output_type": "stream",
          "name": "stderr",
          "text": [
            "Installing package into ‘/usr/local/lib/R/site-library’\n",
            "(as ‘lib’ is unspecified)\n",
            "\n"
          ]
        }
      ]
    },
    {
      "cell_type": "markdown",
      "source": [
        "Part of Speech tagging in R"
      ],
      "metadata": {
        "id": "ZXkgMxcrNaU_"
      }
    },
    {
      "cell_type": "code",
      "source": [
        "library(openNLP)\n",
        "library(NLP)\n",
        "\n",
        "# Sample sentence\n",
        "sentence <- \"The quick brown fox jumps over the lazy dog.\"\n",
        "\n",
        "# Tokenize the sentence\n",
        "tokens <- tokenize_sentences(sentence)\n",
        "\n",
        "# Load the POS tagger model\n",
        "tagger <- Maxent_POS_Tag_Annotator()\n",
        "\n",
        "# Perform POS tagging\n",
        "tagged <- sapply(tokens, function(token) {\n",
        "  tags <- sapply(annotate(token, tagger), function(x) x$features$POS)\n",
        "  paste(token, tags, sep = \"_\")\n",
        "})\n",
        "\n",
        "tagged\n"
      ],
      "metadata": {
        "colab": {
          "base_uri": "https://localhost:8080/",
          "height": 106
        },
        "id": "NatNc-ijLhKi",
        "outputId": "e3efea45-0ac6-470b-9c58-16f380d8a17f"
      },
      "execution_count": 18,
      "outputs": [
        {
          "output_type": "error",
          "ename": "ERROR",
          "evalue": "Error in library(openNLP): there is no package called ‘openNLP’\n",
          "traceback": [
            "Error in library(openNLP): there is no package called ‘openNLP’\nTraceback:\n",
            "1. library(openNLP)"
          ]
        }
      ]
    },
    {
      "cell_type": "code",
      "source": [],
      "metadata": {
        "id": "fgHEv9oYNCRF"
      },
      "execution_count": null,
      "outputs": []
    }
  ],
  "metadata": {
    "colab": {
      "provenance": [],
      "authorship_tag": "ABX9TyN8cTgYopl+gQDYljgbyaz0",
      "include_colab_link": true
    },
    "kernelspec": {
      "display_name": "R",
      "name": "ir"
    },
    "language_info": {
      "name": "R"
    }
  },
  "nbformat": 4,
  "nbformat_minor": 0
}